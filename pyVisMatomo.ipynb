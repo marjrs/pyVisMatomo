{
 "cells": [
  {
   "cell_type": "code",
   "execution_count": null,
   "id": "a87a3c52",
   "metadata": {},
   "outputs": [],
   "source": [
    "# Libraries\n",
    "from pyvis.network import Network\n",
    "from pyvis import network as net\n",
    "import networkx as nx\n",
    "import urllib.request, urllib.error\n",
    "import urllib.parse\n",
    "import xml.etree.ElementTree as ET\n",
    "import datetime"
   ]
  },
  {
   "cell_type": "code",
   "execution_count": null,
   "id": "45f06a02",
   "metadata": {},
   "outputs": [],
   "source": [
    "# INSERT_PARAMETER\n",
    "MATOMO_ANALYTICS_URL = \"https://_\"\n",
    "MATOMO_TOKEN = \"_\"\n",
    "ID_SITE = \"_\"\n",
    "START_DATE = \"YYYY-MM-DD\" \n",
    "END_DATE = \"YYYY-MM-DD\""
   ]
  },
  {
   "cell_type": "code",
   "execution_count": null,
   "id": "ebd095b4",
   "metadata": {},
   "outputs": [],
   "source": [
    "def generateDates(d1, d2):\n",
    "    \n",
    "    dates = []\n",
    "    start = datetime.datetime.strptime(d1, \"%Y-%m-%d\")\n",
    "    end = datetime.datetime.strptime(d2, \"%Y-%m-%d\")\n",
    "    date_generated = [start + datetime.timedelta(days=x) for x in range(0, (end-start).days)]\n",
    "\n",
    "    for date in date_generated:\n",
    "        dates.append(date.strftime(\"%Y-%m-%d\"))\n",
    "    dates.append(end.strftime(\"%Y-%m-%d\")) \n",
    "    \n",
    "    return dates"
   ]
  },
  {
   "cell_type": "code",
   "execution_count": null,
   "id": "70d1e095",
   "metadata": {},
   "outputs": [],
   "source": [
    "DATES = generateDates(START_DATE, END_DATE)"
   ]
  },
  {
   "cell_type": "code",
   "execution_count": null,
   "id": "bc02ae0a",
   "metadata": {},
   "outputs": [],
   "source": [
    "# Paths\n",
    "Matomo_Paths = []"
   ]
  },
  {
   "cell_type": "code",
   "execution_count": null,
   "id": "2bbdf13b",
   "metadata": {},
   "outputs": [],
   "source": [
    "def getMatomoData(DATE, MATOMO_TOKEN):\n",
    "    \n",
    "    request_url = MATOMO_ANALYTICS_URL + '?module=API&method=Live.getLastVisitsDetails&idSite=' + ID_SITE + '&filter_limit=-1&period=day&date=' + DATE + '&format=xml&token_auth=' + MATOMO_TOKEN\n",
    "                    \n",
    "    try:\n",
    "        opener = urllib.request.build_opener()\n",
    "        tree = ET.parse(opener.open(request_url))\n",
    "        root = tree.getroot()\n",
    "\n",
    "        click_paths = []\n",
    "        \n",
    "        # Log\n",
    "        number_of_visitors = len(root)\n",
    "        print(\"On \" + str(DATE) + \" a total of \" \n",
    "              + str(number_of_visitors)\n",
    "              + \" were found.\")\n",
    "\n",
    "        # Counter\n",
    "        candidate_number = 0\n",
    "\n",
    "        for visiter_log in root:\n",
    "\n",
    "            idVisit = visiter_log.find(\"idVisit\").text\n",
    "            actionDetails = visiter_log.find('actionDetails')\n",
    "            \n",
    "            path = []\n",
    "\n",
    "            for row in actionDetails:\n",
    "\n",
    "                if (row.find(\"type\").text == \"action\"):\n",
    "                        path.append(row.find('url').text)\n",
    "                else:\n",
    "                    continue\n",
    "                                       \n",
    "            path = [p.replace('http://', 'https://') for p in path]\n",
    "    \n",
    "            Matomo_Paths.append(path)\n",
    "\n",
    "            candidate_number = candidate_number + 1\n",
    "            print(str(candidate_number) + \" / \" + str(number_of_visitors) + \" done\")\n",
    "\n",
    "            \n",
    "    except: # There might be some corrupt API pages\n",
    "        print(str(DATE) + \" Error: API Output. Skip.\")\n",
    "        "
   ]
  },
  {
   "cell_type": "code",
   "execution_count": null,
   "id": "c7fab5b9",
   "metadata": {},
   "outputs": [],
   "source": [
    "def removeDuplicates(lst):\n",
    "    return [t for t in (set(tuple(i) for i in lst))]"
   ]
  },
  {
   "cell_type": "code",
   "execution_count": null,
   "id": "02b1242f",
   "metadata": {},
   "outputs": [],
   "source": [
    "def deDuplicate(list_of_tuples):\n",
    "    \n",
    "    toupleTable = [] \n",
    "    for t in list_of_tuples:        \n",
    "        toupleTable.append([t[0], t[1], list_of_tuples.count(t)])\n",
    "           \n",
    "    seen = set()\n",
    "\n",
    "    no_dups = [] \n",
    "    \n",
    "    for lst in toupleTable:\n",
    "\n",
    "        current = tuple(lst)\n",
    "        if current not in seen:\n",
    "            no_dups.append(lst)\n",
    "            seen.add(current)\n",
    "                 \n",
    "    return no_dups"
   ]
  },
  {
   "cell_type": "code",
   "execution_count": null,
   "id": "d4127100",
   "metadata": {},
   "outputs": [],
   "source": [
    "def graphCreator(ids, knoten, lookupTable, kanten):\n",
    "    \n",
    "    g = net.Network(notebook=True, directed=True)\n",
    "    g.show_buttons(filter_=['physics'])\n",
    "    \n",
    "    g.add_nodes(ids, label=knoten)\n",
    "    \n",
    "    lookupTable = dict(lookupTable)\n",
    "    \n",
    "    for e in kanten:\n",
    "        \n",
    "        x = lookupTable[e[0]]\n",
    "        y = lookupTable[e[1]]\n",
    "        z = e[2]\n",
    "        \n",
    "        g.add_edge(x, y, weight=z, value=z, label=str(z))\n",
    "        \n",
    "        \n",
    "    file_name = \"pyVisGraph.html\"\n",
    "    g.show(file_name)\n",
    "    "
   ]
  },
  {
   "cell_type": "code",
   "execution_count": null,
   "id": "a0386a9d",
   "metadata": {},
   "outputs": [],
   "source": [
    "def getLinkGraph(paths):\n",
    "    \n",
    "    uniqueNodes = []\n",
    "    NodesStrength = []    \n",
    "    lookupTable = []\n",
    "    ids = []\n",
    "    \n",
    "    p_id = 1\n",
    "    \n",
    "    total_tuples = [] # all Edges (X,Y)\n",
    "                \n",
    "    for path in paths:\n",
    "        \n",
    "        for p in path:     \n",
    "                    \n",
    "            if not (p in uniqueNodes):\n",
    "                uniqueNodes.append(p)\n",
    "                ids.append(p_id)\n",
    "                lookupTable.append([p, p_id])\n",
    "                p_id = p_id + 1\n",
    "             \n",
    "        iter = 0\n",
    "        while (iter < len(path) - 1):\n",
    "            total_tuples.append([path[iter], path[iter+1]])\n",
    "            iter = iter + 1\n",
    "    \n",
    "    no_dups = deDuplicate(total_tuples)\n",
    "\n",
    "    # Generate Graph\n",
    "    graphCreator(ids, uniqueNodes, lookupTable, no_dups)"
   ]
  },
  {
   "cell_type": "code",
   "execution_count": null,
   "id": "2efac48b",
   "metadata": {},
   "outputs": [],
   "source": [
    "for D in DATES:\n",
    "    getMatomoData(D, MATOMO_TOKEN)   "
   ]
  },
  {
   "cell_type": "code",
   "execution_count": null,
   "id": "aa18198e",
   "metadata": {},
   "outputs": [],
   "source": [
    "getLinkGraph(Matomo_Paths)"
   ]
  }
 ],
 "metadata": {
  "kernelspec": {
   "display_name": "Python 3",
   "language": "python",
   "name": "python3"
  },
  "language_info": {
   "codemirror_mode": {
    "name": "ipython",
    "version": 3
   },
   "file_extension": ".py",
   "mimetype": "text/x-python",
   "name": "python",
   "nbconvert_exporter": "python",
   "pygments_lexer": "ipython3",
   "version": "3.8.8"
  }
 },
 "nbformat": 4,
 "nbformat_minor": 5
}
